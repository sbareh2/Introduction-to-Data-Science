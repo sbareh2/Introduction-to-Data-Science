{
 "cells": [
  {
   "cell_type": "markdown",
   "id": "cb2bc518",
   "metadata": {},
   "source": [
    "# Simulating Coin Flips"
   ]
  },
  {
   "cell_type": "code",
   "execution_count": 3,
   "id": "5c09d83c",
   "metadata": {},
   "outputs": [],
   "source": [
    "import numpy as np\n",
    "import matplotlib.pyplot as plt\n",
    "%matplotlib inline"
   ]
  },
  {
   "cell_type": "code",
   "execution_count": 17,
   "id": "2c0e09f7",
   "metadata": {},
   "outputs": [
    {
     "data": {
      "text/plain": [
       "1"
      ]
     },
     "execution_count": 17,
     "metadata": {},
     "output_type": "execute_result"
    }
   ],
   "source": [
    "# outcome of one coin flip\n",
    "np.random.randint(2)"
   ]
  },
  {
   "cell_type": "code",
   "execution_count": 9,
   "id": "d3357906",
   "metadata": {},
   "outputs": [
    {
     "data": {
      "text/plain": [
       "array([0, 0, 0, ..., 1, 0, 1])"
      ]
     },
     "execution_count": 9,
     "metadata": {},
     "output_type": "execute_result"
    }
   ],
   "source": [
    "# outcomes of ten thousand coin flips\n",
    "np.random.randint(2, size=10000)\n"
   ]
  },
  {
   "cell_type": "code",
   "execution_count": 10,
   "id": "eae472fc",
   "metadata": {},
   "outputs": [
    {
     "data": {
      "text/plain": [
       "0.4911"
      ]
     },
     "execution_count": 10,
     "metadata": {},
     "output_type": "execute_result"
    }
   ],
   "source": [
    "# mean outcome of ten thousand coin flips\n",
    "np.random.randint(2, size=10000).mean()"
   ]
  },
  {
   "cell_type": "code",
   "execution_count": 19,
   "id": "581a69e0",
   "metadata": {},
   "outputs": [
    {
     "data": {
      "text/plain": [
       "1"
      ]
     },
     "execution_count": 19,
     "metadata": {},
     "output_type": "execute_result"
    }
   ],
   "source": [
    "# outcome of one coin flip\n",
    "np.random.choice([0, 1])\n"
   ]
  },
  {
   "cell_type": "code",
   "execution_count": 20,
   "id": "653765a7",
   "metadata": {},
   "outputs": [
    {
     "data": {
      "text/plain": [
       "array([1, 0, 0, ..., 1, 0, 0])"
      ]
     },
     "execution_count": 20,
     "metadata": {},
     "output_type": "execute_result"
    }
   ],
   "source": [
    "# outcome of ten thousand coin flips\n",
    "np.random.choice([0, 1], size=10000)"
   ]
  },
  {
   "cell_type": "code",
   "execution_count": 21,
   "id": "762b449a",
   "metadata": {},
   "outputs": [
    {
     "data": {
      "text/plain": [
       "0.4994"
      ]
     },
     "execution_count": 21,
     "metadata": {},
     "output_type": "execute_result"
    }
   ],
   "source": [
    "# mean outcome of ten thousand coin flips\n",
    "np.random.choice([0, 1], size=10000).mean()"
   ]
  },
  {
   "cell_type": "code",
   "execution_count": 22,
   "id": "12ff882b",
   "metadata": {},
   "outputs": [
    {
     "data": {
      "text/plain": [
       "array([0, 0, 0, ..., 0, 1, 0])"
      ]
     },
     "execution_count": 22,
     "metadata": {},
     "output_type": "execute_result"
    }
   ],
   "source": [
    "# outcomes of ten thousand biased coin flips\n",
    "np.random.choice([0, 1], size=10000, p=[0.8, 0.2])\n"
   ]
  },
  {
   "cell_type": "code",
   "execution_count": 23,
   "id": "d1b9c8fe",
   "metadata": {},
   "outputs": [
    {
     "data": {
      "text/plain": [
       "0.1977"
      ]
     },
     "execution_count": 23,
     "metadata": {},
     "output_type": "execute_result"
    }
   ],
   "source": [
    "# mean outcome of ten thousand biased coin flips\n",
    "np.random.choice([0, 1], size=10000, p=[0.8, 0.2]).mean()"
   ]
  },
  {
   "cell_type": "markdown",
   "id": "a15a1419",
   "metadata": {},
   "source": [
    "# Probability Quiz\n",
    "\n",
    "In this quiz, you will simulate coin flips and die rolls to compute proportions for the following outcomes.\n",
    "\n",
    "1.   Two fair coin flips produce exactly two heads\n",
    "2.   Three fair coin flips produce exactly one head\n",
    "3.   Three biased coin flips with P(H) = 0.6 produce exactly one head\n",
    "4.   A die rolls an even number\n",
    "5.   Two dice roll a double\n",
    "\n",
    "Then, you'll compare these proportions with probabilities in the quizzes below.\n",
    "\n",
    "When simulating coin flips, use 0 to represent heads and 1 to represent tails. When simulating die rolls, use the correct integers to match the numbers on the sides of a standard 6 sided die.\n",
    "\n",
    "Also, notice that you can look at the solutions if you get stuck by clicking the orange button in the top left or check the solution link at the bottom of the page."
   ]
  },
  {
   "cell_type": "markdown",
   "id": "4dfdb0b2",
   "metadata": {},
   "source": [
    "Use NumPy to create simulations and compute proportions for the following outcomes. The first one is done for you.\n",
    "\n",
    "Please note again that we are using 0 to represent heads, and 1 to represent tails."
   ]
  },
  {
   "cell_type": "code",
   "execution_count": 24,
   "id": "8aa9ee41",
   "metadata": {},
   "outputs": [],
   "source": [
    "# import numpy\n",
    "import numpy as np"
   ]
  },
  {
   "cell_type": "markdown",
   "id": "03b465d5",
   "metadata": {},
   "source": [
    "## 1. Two fair coin flips produce exactly two heads"
   ]
  },
  {
   "cell_type": "code",
   "execution_count": 43,
   "id": "b845bb9d",
   "metadata": {},
   "outputs": [
    {
     "data": {
      "text/plain": [
       "0.249781"
      ]
     },
     "execution_count": 43,
     "metadata": {},
     "output_type": "execute_result"
    }
   ],
   "source": [
    "# simulate 1 million tests of two fair coin flips\n",
    "tests = np.random.randint(2, size=(int(1e6), 2))\n",
    "\n",
    "# sums of all tests\n",
    "test_sums = tests.sum(axis=1)\n",
    "\n",
    "# proportion of tests that produced exactly two heads\n",
    "(test_sums == 0).mean()"
   ]
  },
  {
   "cell_type": "markdown",
   "id": "7c472ce1",
   "metadata": {},
   "source": [
    "## 2. Three fair coin flips produce exactly one head"
   ]
  },
  {
   "cell_type": "code",
   "execution_count": 45,
   "id": "1bd281b8",
   "metadata": {},
   "outputs": [
    {
     "data": {
      "text/plain": [
       "0.374462"
      ]
     },
     "execution_count": 45,
     "metadata": {},
     "output_type": "execute_result"
    }
   ],
   "source": [
    "# simulate 1 million tests of three fair coin flips\n",
    "tests = np.random.randint(2, size=(int(1e6),3))\n",
    "\n",
    "# sums of all tests\n",
    "test_sums = tests.sum(axis=1)\n",
    "\n",
    "# proportion of tests that produced exactly one head\n",
    "(test_sums == 2).mean()"
   ]
  },
  {
   "cell_type": "markdown",
   "id": "715a2153",
   "metadata": {},
   "source": [
    "## 3. Three biased coin flips with P(H) = 0.6 produce exactly one head"
   ]
  },
  {
   "cell_type": "code",
   "execution_count": 46,
   "id": "752de8e3",
   "metadata": {},
   "outputs": [
    {
     "data": {
      "text/plain": [
       "0.288004"
      ]
     },
     "execution_count": 46,
     "metadata": {},
     "output_type": "execute_result"
    }
   ],
   "source": [
    "# simulate 1 million tests of three biased coin flips\n",
    "# hint: use np.random.choice()\n",
    "tests = np.random.choice([0,1], size=(int(1e6),3), p=[0.6,0.4])\n",
    "\n",
    "# sums of all tests\n",
    "test_sums = tests.sum(axis=1)\n",
    "\n",
    "# proportion of tests that produced exactly one head\n",
    "(test_sums == 2).mean()"
   ]
  },
  {
   "cell_type": "markdown",
   "id": "be2b839a",
   "metadata": {},
   "source": [
    "## 4. A die rolls an even number"
   ]
  },
  {
   "cell_type": "code",
   "execution_count": 51,
   "id": "9250bc6d",
   "metadata": {},
   "outputs": [
    {
     "data": {
      "text/plain": [
       "0.50035"
      ]
     },
     "execution_count": 51,
     "metadata": {},
     "output_type": "execute_result"
    }
   ],
   "source": [
    "# simulate 1 million tests of one die roll\n",
    "tests = np.random.choice(np.arange(1,7), size=(1000000))\n",
    "\n",
    "# proportion of tests that produced an even number\n",
    "(tests % 2 == 0).mean()"
   ]
  },
  {
   "cell_type": "markdown",
   "id": "33a736c5",
   "metadata": {},
   "source": [
    "## 5. Two dice roll a double"
   ]
  },
  {
   "cell_type": "code",
   "execution_count": 53,
   "id": "2be24d8b",
   "metadata": {},
   "outputs": [
    {
     "data": {
      "text/plain": [
       "0.1665"
      ]
     },
     "execution_count": 53,
     "metadata": {},
     "output_type": "execute_result"
    }
   ],
   "source": [
    "# simulate the first million die rolls\n",
    "first = np.random.choice(np.arange(1,7), size=(1000000))\n",
    "\n",
    "# simulate the second million die rolls\n",
    "second = np.random.choice(np.arange(1,7), size=(1000000))\n",
    "\n",
    "# proportion of tests where the 1st and 2nd die rolled the same number\n",
    "(first == second).mean()"
   ]
  },
  {
   "cell_type": "code",
   "execution_count": 54,
   "id": "55f11d0c",
   "metadata": {},
   "outputs": [
    {
     "name": "stdout",
     "output_type": "stream",
     "text": [
      "Proportion of tests that match outcome 1: 0.250658\n",
      "Proportion of tests that match outcome 2: 0.374186\n",
      "Proportion of tests that match outcome 3: 0.431758\n",
      "Proportion of tests that match outcome 4: 0.500836\n",
      "Proportion of tests that match outcome 5: 0.167234\n"
     ]
    }
   ],
   "source": [
    "import numpy as np\n",
    "\n",
    "# Simulate 1 million tests of each outcome\n",
    "tests_1 = np.random.choice([0, 1], size=(1000000, 2))\n",
    "tests_2 = np.random.choice([0, 1], size=(1000000, 3))\n",
    "tests_3 = np.random.choice([0, 1], size=(1000000, 3), p=[0.6, 0.4])\n",
    "tests_4 = np.random.randint(1, 7, size=1000000)\n",
    "tests_5 = np.random.choice(np.arange(1, 7), size=(1000000, 2))\n",
    "\n",
    "# Calculate proportions of tests that match each outcome\n",
    "prop_1 = np.mean(np.sum(tests_1, axis=1) == 0)\n",
    "prop_2 = np.mean(np.sum(tests_2, axis=1) == 1)\n",
    "prop_3 = np.mean(np.sum(tests_3, axis=1) == 1)\n",
    "prop_4 = np.mean(tests_4 % 2 == 0)\n",
    "prop_5 = np.mean(tests_5[:, 0] == tests_5[:, 1])\n",
    "\n",
    "# Print the proportions\n",
    "print(\"Proportion of tests that match outcome 1:\", prop_1)\n",
    "print(\"Proportion of tests that match outcome 2:\", prop_2)\n",
    "print(\"Proportion of tests that match outcome 3:\", prop_3)\n",
    "print(\"Proportion of tests that match outcome 4:\", prop_4)\n",
    "print(\"Proportion of tests that match outcome 5:\", prop_5)"
   ]
  },
  {
   "cell_type": "code",
   "execution_count": null,
   "id": "778b8c07",
   "metadata": {},
   "outputs": [],
   "source": []
  }
 ],
 "metadata": {
  "kernelspec": {
   "display_name": "Python 3 (ipykernel)",
   "language": "python",
   "name": "python3"
  },
  "language_info": {
   "codemirror_mode": {
    "name": "ipython",
    "version": 3
   },
   "file_extension": ".py",
   "mimetype": "text/x-python",
   "name": "python",
   "nbconvert_exporter": "python",
   "pygments_lexer": "ipython3",
   "version": "3.11.3"
  }
 },
 "nbformat": 4,
 "nbformat_minor": 5
}
